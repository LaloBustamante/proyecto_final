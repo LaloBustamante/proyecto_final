{
 "cells": [
  {
   "cell_type": "markdown",
   "metadata": {},
   "source": [
    "# Condiciones de la asignación principal\n",
    "\n",
    "Al operador de telecomunicaciones Interconnect le gustaría poder pronosticar su tasa de cancelación de clientes. Si se descubre que un usuario o usuaria planea irse, se le ofrecerán códigos promocionales y opciones de planes especiales. El equipo de marketing de Interconnect ha recopilado algunos de los datos personales de sus clientes, incluyendo información sobre sus planes y contratos.\n",
    "\n",
    "### Servicios de Interconnect\n",
    "\n",
    "Interconnect proporciona principalmente dos tipos de servicios:\n",
    "\n",
    "1. Comunicación por teléfono fijo. El teléfono se puede conectar a varias líneas de manera simultánea.\n",
    "2. Internet. La red se puede configurar a través de una línea telefónica (DSL, *línea de abonado digital*) o a través de un cable de fibra óptica.\n",
    "\n",
    "Algunos otros servicios que ofrece la empresa incluyen:\n",
    "\n",
    "- Seguridad en Internet: software antivirus (*ProtecciónDeDispositivo*) y un bloqueador de sitios web maliciosos (*SeguridadEnLínea*).\n",
    "- Una línea de soporte técnico (*SoporteTécnico*).\n",
    "- Almacenamiento de archivos en la nube y backup de datos (*BackupOnline*).\n",
    "- Streaming de TV (*StreamingTV*) y directorio de películas (*StreamingPelículas*)\n",
    "\n",
    "La clientela puede elegir entre un pago mensual o firmar un contrato de 1 o 2 años. Puede utilizar varios métodos de pago y recibir una factura electrónica después de una transacción.\n",
    "\n",
    "### Descripción de los datos\n",
    "\n",
    "Los datos consisten en archivos obtenidos de diferentes fuentes:\n",
    "\n",
    "- `contract.csv` — información del contrato;\n",
    "- `personal.csv` — datos personales del cliente;\n",
    "- `internet.csv` — información sobre los servicios de Internet;\n",
    "- `phone.csv` — información sobre los servicios telefónicos.\n",
    "\n",
    "En cada archivo, la columna `customerID` (ID de cliente) contiene un código único asignado a cada cliente. La información del contrato es válida a partir del 1 de febrero de 2020.\n",
    "\n",
    "### Datos\n",
    "\n",
    "[final_provider.zip](https://s3-us-west-2.amazonaws.com/secure.notion-static.com/94210e31-fd3d-451b-a350-4a8476756413/final_provider.zip)\n",
    "\n",
    "Los datos también se encuentran en la plataforma, en la carpeta `/datasets/final_provider/`.\n",
    "\n",
    "\n",
    "# 1. Plan de trabajo\n",
    "\n",
    "Deberás realizar un análisis exploratorio de datos. Al final de *Jupyter Notebook*, escribe:\n",
    "\n",
    "- Una lista de preguntas aclaratorias.\n",
    "- Un plan aproximado para resolver la tarea, que especifica de 3 a 5 pasos básicos y los explica en uno o dos enunciados\n",
    "\n",
    "El líder del equipo revisará tus preguntas y plan de trabajo. Las preguntas serán respondidas durante una videollamada. El código será revisado por el líder del equipo solo si hay algunas dudas.\n"
   ]
  },
  {
   "cell_type": "code",
   "execution_count": 1,
   "metadata": {},
   "outputs": [],
   "source": [
    "# Importar librerías\n",
    "import pandas as pd\n",
    "import numpy as np\n",
    "import zipfile\n",
    "import os\n",
    "from sklearn.preprocessing import OneHotEncoder, StandardScaler"
   ]
  },
  {
   "cell_type": "code",
   "execution_count": 2,
   "metadata": {},
   "outputs": [
    {
     "data": {
      "text/plain": [
       "['final_provider',\n",
       " 'internet.csv',\n",
       " 'contract.csv',\n",
       " '__MACOSX',\n",
       " 'phone.csv',\n",
       " 'personal.csv']"
      ]
     },
     "execution_count": 2,
     "metadata": {},
     "output_type": "execute_result"
    }
   ],
   "source": [
    "# Ruta al archivo zip cargado y al directorio de extracción\n",
    "zip_file_path = 'datasets/final_provider.zip'\n",
    "extraction_dir = 'datasets/final_provider/'\n",
    "\n",
    "\n",
    "# Extrae el archivo zip\n",
    "with zipfile.ZipFile(zip_file_path, 'r') as zip_ref:\n",
    "    zip_ref.extractall(extraction_dir)\n",
    "\n",
    "\n",
    "# Enumere los archivos extraídos para confirmar la extracción\n",
    "os.listdir(extraction_dir)\n"
   ]
  },
  {
   "cell_type": "code",
   "execution_count": 3,
   "metadata": {},
   "outputs": [
    {
     "data": {
      "text/plain": [
       "['internet.csv', 'contract.csv', 'phone.csv', 'personal.csv']"
      ]
     },
     "execution_count": 3,
     "metadata": {},
     "output_type": "execute_result"
    }
   ],
   "source": [
    "# Ruta al directorio principal de datos\n",
    "data_dir = os.path.join(extraction_dir, 'final_provider')\n",
    "\n",
    "# Listar los archivos en el directorio principal.\n",
    "os.listdir(data_dir)"
   ]
  },
  {
   "cell_type": "code",
   "execution_count": 4,
   "metadata": {},
   "outputs": [
    {
     "name": "stdout",
     "output_type": "stream",
     "text": [
      "Preview of personal.csv:\n",
      "<class 'pandas.core.frame.DataFrame'>\n",
      "RangeIndex: 7043 entries, 0 to 7042\n",
      "Data columns (total 5 columns):\n",
      " #   Column         Non-Null Count  Dtype \n",
      "---  ------         --------------  ----- \n",
      " 0   customerID     7043 non-null   object\n",
      " 1   gender         7043 non-null   object\n",
      " 2   SeniorCitizen  7043 non-null   int64 \n",
      " 3   Partner        7043 non-null   object\n",
      " 4   Dependents     7043 non-null   object\n",
      "dtypes: int64(1), object(4)\n",
      "memory usage: 275.2+ KB\n",
      "   customerID  gender  SeniorCitizen Partner Dependents\n",
      "0  7590-VHVEG  Female              0     Yes         No\n",
      "1  5575-GNVDE    Male              0      No         No\n",
      "2  3668-QPYBK    Male              0      No         No\n",
      "3  7795-CFOCW    Male              0      No         No\n",
      "4  9237-HQITU  Female              0      No         No None\n",
      "\n",
      "\n",
      "Preview of contract.csv:\n",
      "<class 'pandas.core.frame.DataFrame'>\n",
      "RangeIndex: 7043 entries, 0 to 7042\n",
      "Data columns (total 8 columns):\n",
      " #   Column            Non-Null Count  Dtype  \n",
      "---  ------            --------------  -----  \n",
      " 0   customerID        7043 non-null   object \n",
      " 1   BeginDate         7043 non-null   object \n",
      " 2   EndDate           7043 non-null   object \n",
      " 3   Type              7043 non-null   object \n",
      " 4   PaperlessBilling  7043 non-null   object \n",
      " 5   PaymentMethod     7043 non-null   object \n",
      " 6   MonthlyCharges    7043 non-null   float64\n",
      " 7   TotalCharges      7043 non-null   object \n",
      "dtypes: float64(1), object(7)\n",
      "memory usage: 440.3+ KB\n",
      "   customerID   BeginDate              EndDate            Type  \\\n",
      "0  7590-VHVEG  2020-01-01                   No  Month-to-month   \n",
      "1  5575-GNVDE  2017-04-01                   No        One year   \n",
      "2  3668-QPYBK  2019-10-01  2019-12-01 00:00:00  Month-to-month   \n",
      "3  7795-CFOCW  2016-05-01                   No        One year   \n",
      "4  9237-HQITU  2019-09-01  2019-11-01 00:00:00  Month-to-month   \n",
      "\n",
      "  PaperlessBilling              PaymentMethod  MonthlyCharges TotalCharges  \n",
      "0              Yes           Electronic check           29.85        29.85  \n",
      "1               No               Mailed check           56.95       1889.5  \n",
      "2              Yes               Mailed check           53.85       108.15  \n",
      "3               No  Bank transfer (automatic)           42.30      1840.75  \n",
      "4              Yes           Electronic check           70.70       151.65   None\n",
      "\n",
      "\n",
      "Preview of phone.csv:\n",
      "<class 'pandas.core.frame.DataFrame'>\n",
      "RangeIndex: 6361 entries, 0 to 6360\n",
      "Data columns (total 2 columns):\n",
      " #   Column         Non-Null Count  Dtype \n",
      "---  ------         --------------  ----- \n",
      " 0   customerID     6361 non-null   object\n",
      " 1   MultipleLines  6361 non-null   object\n",
      "dtypes: object(2)\n",
      "memory usage: 99.5+ KB\n",
      "   customerID MultipleLines\n",
      "0  5575-GNVDE            No\n",
      "1  3668-QPYBK            No\n",
      "2  9237-HQITU            No\n",
      "3  9305-CDSKC           Yes\n",
      "4  1452-KIOVK           Yes None\n",
      "\n",
      "\n",
      "Preview of internet.csv:\n",
      "<class 'pandas.core.frame.DataFrame'>\n",
      "RangeIndex: 5517 entries, 0 to 5516\n",
      "Data columns (total 8 columns):\n",
      " #   Column            Non-Null Count  Dtype \n",
      "---  ------            --------------  ----- \n",
      " 0   customerID        5517 non-null   object\n",
      " 1   InternetService   5517 non-null   object\n",
      " 2   OnlineSecurity    5517 non-null   object\n",
      " 3   OnlineBackup      5517 non-null   object\n",
      " 4   DeviceProtection  5517 non-null   object\n",
      " 5   TechSupport       5517 non-null   object\n",
      " 6   StreamingTV       5517 non-null   object\n",
      " 7   StreamingMovies   5517 non-null   object\n",
      "dtypes: object(8)\n",
      "memory usage: 344.9+ KB\n",
      "   customerID InternetService OnlineSecurity OnlineBackup DeviceProtection  \\\n",
      "0  7590-VHVEG             DSL             No          Yes               No   \n",
      "1  5575-GNVDE             DSL            Yes           No              Yes   \n",
      "2  3668-QPYBK             DSL            Yes          Yes               No   \n",
      "3  7795-CFOCW             DSL            Yes           No              Yes   \n",
      "4  9237-HQITU     Fiber optic             No           No               No   \n",
      "\n",
      "  TechSupport StreamingTV StreamingMovies  \n",
      "0          No          No              No  \n",
      "1          No          No              No  \n",
      "2          No          No              No  \n",
      "3         Yes          No              No  \n",
      "4          No          No              No   None\n",
      "\n",
      "\n",
      "Análisis de personal.csv:\n",
      "customerID       0\n",
      "gender           0\n",
      "SeniorCitizen    0\n",
      "Partner          0\n",
      "Dependents       0\n",
      "dtype: int64\n",
      "\n",
      "\n",
      "Análisis de contract.csv:\n",
      "customerID          0\n",
      "BeginDate           0\n",
      "EndDate             0\n",
      "Type                0\n",
      "PaperlessBilling    0\n",
      "PaymentMethod       0\n",
      "MonthlyCharges      0\n",
      "TotalCharges        0\n",
      "dtype: int64\n",
      "\n",
      "\n",
      "Análisis de phone.csv:\n",
      "customerID       0\n",
      "MultipleLines    0\n",
      "dtype: int64\n",
      "\n",
      "\n",
      "Análisis de internet.csv:\n",
      "customerID          0\n",
      "InternetService     0\n",
      "OnlineSecurity      0\n",
      "OnlineBackup        0\n",
      "DeviceProtection    0\n",
      "TechSupport         0\n",
      "StreamingTV         0\n",
      "StreamingMovies     0\n",
      "dtype: int64\n",
      "\n",
      "\n"
     ]
    }
   ],
   "source": [
    "# Cargar y mostrar las primeras filas de cada archivo\n",
    "files = ['personal.csv', 'contract.csv', 'phone.csv', 'internet.csv']\n",
    "dataframes = {}\n",
    "\n",
    "\n",
    "for file in files:\n",
    "    file_path = os.path.join(data_dir, file)\n",
    "    dataframes[file] = pd.read_csv(file_path)\n",
    "    print(f\"Preview of {file}:\")\n",
    "    print(dataframes[file].head(), dataframes[file].info())\n",
    "    print(\"\\n\")\n",
    "\n",
    "\n",
    "# Verificar valores nulos y tipos de datos\n",
    "for file, df in dataframes.items():\n",
    "    print(f\"Análisis de {file}:\")\n",
    "    print(df.isnull().sum())\n",
    "    print(\"\\n\")"
   ]
  },
  {
   "cell_type": "code",
   "execution_count": 5,
   "metadata": {},
   "outputs": [],
   "source": [
    "# Limpieza preliminar de datos\n",
    "# Convertir 'TotalCharges' a numérico y manejar errores\n",
    "contract_df = dataframes['contract.csv']\n",
    "contract_df['TotalCharges'] = pd.to_numeric(contract_df['TotalCharges'], errors='coerce')\n",
    "\n",
    "# Reemplazar nulos resultantes de la conversión\n",
    "contract_df['TotalCharges'].fillna(contract_df['MonthlyCharges'], inplace=True)"
   ]
  },
  {
   "cell_type": "code",
   "execution_count": 6,
   "metadata": {},
   "outputs": [
    {
     "name": "stdout",
     "output_type": "stream",
     "text": [
      "Valores únicos en gender: ['Female' 'Male']\n",
      "Valores únicos en Partner: ['Yes' 'No']\n",
      "Valores únicos en Dependents: ['No' 'Yes']\n"
     ]
    }
   ],
   "source": [
    "# Comprobar valores únicos en columnas categóricas clave\n",
    "for col in ['gender', 'Partner', 'Dependents']:\n",
    "    print(f\"Valores únicos en {col}:\", dataframes['personal.csv'][col].unique())"
   ]
  },
  {
   "cell_type": "code",
   "execution_count": 7,
   "metadata": {},
   "outputs": [],
   "source": [
    "# Unificar los conjuntos de datos en un único DataFrame\n",
    "merged_data = dataframes['personal.csv']\n",
    "for file in ['contract.csv', 'phone.csv', 'internet.csv']:\n",
    "    merged_data = merged_data.merge(dataframes[file], on='customerID', how='left')"
   ]
  },
  {
   "cell_type": "code",
   "execution_count": 8,
   "metadata": {},
   "outputs": [
    {
     "name": "stdout",
     "output_type": "stream",
     "text": [
      "Valores nulos tras la unificación:\n",
      "customerID             0\n",
      "gender                 0\n",
      "SeniorCitizen          0\n",
      "Partner                0\n",
      "Dependents             0\n",
      "BeginDate              0\n",
      "EndDate                0\n",
      "Type                   0\n",
      "PaperlessBilling       0\n",
      "PaymentMethod          0\n",
      "MonthlyCharges         0\n",
      "TotalCharges           0\n",
      "MultipleLines        682\n",
      "InternetService     1526\n",
      "OnlineSecurity      1526\n",
      "OnlineBackup        1526\n",
      "DeviceProtection    1526\n",
      "TechSupport         1526\n",
      "StreamingTV         1526\n",
      "StreamingMovies     1526\n",
      "dtype: int64\n"
     ]
    }
   ],
   "source": [
    "# Verificar si hay valores nulos tras la unificación\n",
    "print(\"Valores nulos tras la unificación:\")\n",
    "print(merged_data.isnull().sum())"
   ]
  },
  {
   "cell_type": "code",
   "execution_count": 9,
   "metadata": {},
   "outputs": [
    {
     "name": "stdout",
     "output_type": "stream",
     "text": [
      "Estadísticas descriptivas de variables numéricas:\n",
      "       SeniorCitizen  MonthlyCharges  TotalCharges\n",
      "count    7043.000000     7043.000000   7043.000000\n",
      "mean        0.162147       64.761692   2279.798992\n",
      "std         0.368612       30.090047   2266.730170\n",
      "min         0.000000       18.250000     18.800000\n",
      "25%         0.000000       35.500000    398.550000\n",
      "50%         0.000000       70.350000   1394.550000\n",
      "75%         0.000000       89.850000   3786.600000\n",
      "max         1.000000      118.750000   8684.800000\n"
     ]
    }
   ],
   "source": [
    "# Análisis exploratorio\n",
    "# Estadísticas descriptivas para variables numéricas\n",
    "print(\"Estadísticas descriptivas de variables numéricas:\")\n",
    "print(merged_data.describe())"
   ]
  },
  {
   "cell_type": "code",
   "execution_count": 10,
   "metadata": {},
   "outputs": [
    {
     "name": "stdout",
     "output_type": "stream",
     "text": [
      "Distribución de 'EndDate':\n",
      "EndDate\n",
      "No                     5174\n",
      "2019-11-01 00:00:00     485\n",
      "2019-12-01 00:00:00     466\n",
      "2020-01-01 00:00:00     460\n",
      "2019-10-01 00:00:00     458\n",
      "Name: count, dtype: int64\n"
     ]
    }
   ],
   "source": [
    "# Distribución de la variable objetivo (EndDate)\n",
    "print(\"Distribución de 'EndDate':\")\n",
    "print(merged_data['EndDate'].value_counts())"
   ]
  },
  {
   "cell_type": "code",
   "execution_count": 11,
   "metadata": {},
   "outputs": [
    {
     "name": "stdout",
     "output_type": "stream",
     "text": [
      "Distribución de 'InternetService':\n",
      "InternetService\n",
      "Fiber optic    3096\n",
      "DSL            2421\n",
      "Name: count, dtype: int64\n"
     ]
    }
   ],
   "source": [
    "# Distribución de clientes según tipo de servicio de internet\n",
    "print(\"Distribución de 'InternetService':\")\n",
    "print(merged_data['InternetService'].value_counts())"
   ]
  },
  {
   "cell_type": "code",
   "execution_count": 12,
   "metadata": {},
   "outputs": [],
   "source": [
    "# 1. Limpieza y tratamiento de valores nulos\n",
    "# Asegurarnos de que no queden valores nulos en 'TotalCharges' y reemplazarlos\n",
    "merged_data['TotalCharges'] = pd.to_numeric(merged_data['TotalCharges'], errors='coerce')\n",
    "merged_data['TotalCharges'].fillna(merged_data['MonthlyCharges'], inplace=True)\n",
    "\n",
    "# Rellenar valores faltantes en columnas categóricas con \"No\"\n",
    "categorical_columns = ['MultipleLines', 'InternetService', 'OnlineSecurity', \n",
    "                       'OnlineBackup', 'DeviceProtection', 'TechSupport', \n",
    "                       'StreamingTV', 'StreamingMovies']\n",
    "\n",
    "for col in categorical_columns:\n",
    "    merged_data[col].fillna('No', inplace=True)"
   ]
  },
  {
   "cell_type": "code",
   "execution_count": 13,
   "metadata": {},
   "outputs": [
    {
     "name": "stdout",
     "output_type": "stream",
     "text": [
      "Valores nulos restantes:\n",
      "customerID          0\n",
      "gender              0\n",
      "SeniorCitizen       0\n",
      "Partner             0\n",
      "Dependents          0\n",
      "BeginDate           0\n",
      "EndDate             0\n",
      "Type                0\n",
      "PaperlessBilling    0\n",
      "PaymentMethod       0\n",
      "MonthlyCharges      0\n",
      "TotalCharges        0\n",
      "MultipleLines       0\n",
      "InternetService     0\n",
      "OnlineSecurity      0\n",
      "OnlineBackup        0\n",
      "DeviceProtection    0\n",
      "TechSupport         0\n",
      "StreamingTV         0\n",
      "StreamingMovies     0\n",
      "dtype: int64\n"
     ]
    }
   ],
   "source": [
    "# Verificar si quedan valores nulos\n",
    "print(\"Valores nulos restantes:\")\n",
    "print(merged_data.isnull().sum())"
   ]
  },
  {
   "cell_type": "code",
   "execution_count": 14,
   "metadata": {},
   "outputs": [],
   "source": [
    "# 2. Conversión y codificación de datos categóricos\n",
    "# Convertir columnas categóricas binarias a formato numérico\n",
    "binary_columns = ['gender', 'Partner', 'Dependents', 'PaperlessBilling']\n",
    "binary_mapping = {'Yes': 1, 'No': 0, 'Male': 0, 'Female': 1}\n",
    "for col in binary_columns:\n",
    "    merged_data[col] = merged_data[col].map(binary_mapping)"
   ]
  },
  {
   "cell_type": "code",
   "execution_count": 15,
   "metadata": {},
   "outputs": [
    {
     "name": "stderr",
     "output_type": "stream",
     "text": [
      "/home/eduardobustamante/.local/lib/python3.8/site-packages/sklearn/preprocessing/_encoders.py:975: FutureWarning: `sparse` was renamed to `sparse_output` in version 1.2 and will be removed in 1.4. `sparse_output` is ignored unless you leave `sparse` to its default value.\n",
      "  warnings.warn(\n"
     ]
    }
   ],
   "source": [
    "# Codificar variables categóricas con múltiples niveles usando OneHotEncoder\n",
    "multi_level_columns = ['PaymentMethod', 'Type', 'InternetService']\n",
    "encoder = OneHotEncoder(drop='first', sparse=False)\n",
    "encoded_features = pd.DataFrame(\n",
    "    encoder.fit_transform(merged_data[multi_level_columns]),\n",
    "    columns=encoder.get_feature_names_out(multi_level_columns)\n",
    ")"
   ]
  },
  {
   "cell_type": "code",
   "execution_count": 16,
   "metadata": {},
   "outputs": [],
   "source": [
    "# Agregar las características codificadas y eliminar las originales\n",
    "merged_data = pd.concat([merged_data.drop(columns=multi_level_columns), encoded_features], axis=1)\n",
    "\n",
    "# 3. Escalado de variables numéricas\n",
    "# Escalar 'MonthlyCharges' y 'TotalCharges'\n",
    "scaler = StandardScaler()\n",
    "merged_data[['MonthlyCharges', 'TotalCharges']] = scaler.fit_transform(merged_data[['MonthlyCharges', 'TotalCharges']])"
   ]
  },
  {
   "cell_type": "code",
   "execution_count": 17,
   "metadata": {},
   "outputs": [
    {
     "name": "stdout",
     "output_type": "stream",
     "text": [
      "Vista previa de los datos procesados:\n",
      "   customerID  gender  SeniorCitizen  Partner  Dependents   BeginDate  \\\n",
      "0  7590-VHVEG       1              0        1           0  2020-01-01   \n",
      "1  5575-GNVDE       0              0        0           0  2017-04-01   \n",
      "2  3668-QPYBK       0              0        0           0  2019-10-01   \n",
      "3  7795-CFOCW       0              0        0           0  2016-05-01   \n",
      "4  9237-HQITU       1              0        0           0  2019-09-01   \n",
      "\n",
      "               EndDate  PaperlessBilling  MonthlyCharges  TotalCharges  ...  \\\n",
      "0                   No                 1       -1.160323     -0.992667  ...   \n",
      "1                   No                 0       -0.259629     -0.172198  ...   \n",
      "2  2019-12-01 00:00:00                 1       -0.362660     -0.958122  ...   \n",
      "3                   No                 0       -0.746535     -0.193706  ...   \n",
      "4  2019-11-01 00:00:00                 1        0.197365     -0.938930  ...   \n",
      "\n",
      "  TechSupport StreamingTV StreamingMovies  \\\n",
      "0          No          No              No   \n",
      "1          No          No              No   \n",
      "2          No          No              No   \n",
      "3         Yes          No              No   \n",
      "4          No          No              No   \n",
      "\n",
      "  PaymentMethod_Credit card (automatic) PaymentMethod_Electronic check  \\\n",
      "0                                   0.0                            1.0   \n",
      "1                                   0.0                            0.0   \n",
      "2                                   0.0                            0.0   \n",
      "3                                   0.0                            0.0   \n",
      "4                                   0.0                            1.0   \n",
      "\n",
      "  PaymentMethod_Mailed check Type_One year  Type_Two year  \\\n",
      "0                        0.0           0.0            0.0   \n",
      "1                        1.0           1.0            0.0   \n",
      "2                        1.0           0.0            0.0   \n",
      "3                        0.0           1.0            0.0   \n",
      "4                        0.0           0.0            0.0   \n",
      "\n",
      "   InternetService_Fiber optic  InternetService_No  \n",
      "0                          0.0                 0.0  \n",
      "1                          0.0                 0.0  \n",
      "2                          0.0                 0.0  \n",
      "3                          0.0                 0.0  \n",
      "4                          1.0                 0.0  \n",
      "\n",
      "[5 rows x 24 columns]\n"
     ]
    }
   ],
   "source": [
    "# Verificar el DataFrame procesado\n",
    "print(\"Vista previa de los datos procesados:\")\n",
    "print(merged_data.head())"
   ]
  },
  {
   "cell_type": "markdown",
   "metadata": {},
   "source": [
    "Limpieza de Datos:  \n",
    "\n",
    "Se corrigieron los valores no numéricos en TotalCharges y se manejaron los valores nulos con valores predeterminados.\n",
    "Se rellenaron columnas categóricas con valores faltantes asignándoles \"No\", lo cual es razonable para estas variables de servicio.  \n",
    "\n",
    "Codificación de Datos:  \n",
    "\n",
    "Las columnas binarias se mapearon directamente a valores 0 y 1.  \n",
    "\n",
    "Las columnas con múltiples niveles se codificaron con OneHotEncoder, eliminando una categoría para evitar multicolinealidad.  \n",
    "\n",
    "Escalado:  \n",
    "\n",
    "Las variables numéricas MonthlyCharges y TotalCharges se escalaron usando StandardScaler para que tengan una media de 0 y una desviación estándar de 1, lo cual beneficia a ciertos modelos que son sensibles a la escala."
   ]
  },
  {
   "cell_type": "markdown",
   "metadata": {},
   "source": [
    "### Lista de Preguntas Aclaratorias\n",
    "\n",
    "¿Cuál es la interpretación específica de \"EndDate\" como característica objetivo? ¿Deberíamos codificarla como una variable binaria para modelado?  \n",
    "\n",
    "\n",
    "Algunos clientes no tienen servicios de Internet o teléfono. ¿Debemos tratarlos de manera especial en el análisis o eliminar esas observaciones?  \n",
    "\n",
    "\n",
    "¿Qué significa un valor faltante en columnas como InternetService o MultipleLines tras la unificación?  \n",
    "\n",
    "\n",
    "¿Se debe realizar algún tratamiento particular para las columnas categóricas de múltiples niveles como PaymentMethod?\n"
   ]
  },
  {
   "cell_type": "markdown",
   "metadata": {},
   "source": [
    "### Plan Aproximado\n",
    "\n",
    "1.- Limpieza y Preprocesamiento de Datos:\n",
    "\n",
    "Convertir columnas numéricas mal tipificadas (como TotalCharges).\n",
    "Manejar valores nulos de forma adecuada según su naturaleza.\n",
    "\n",
    "2.- Análisis Exploratorio de Datos (EDA):\n",
    "\n",
    "Analizar las distribuciones de las variables principales.\n",
    "Explorar la relación entre EndDate y otras variables.\n",
    "Identificar correlaciones y posibles características relevantes.\n",
    "\n",
    "3.- Codificación y Transformación de Datos:\n",
    "\n",
    "Convertir variables categóricas a formato numérico (one-hot encoding o label encoding).\n",
    "Escalar las variables numéricas si es necesario para los modelos.\n",
    "\n",
    "4.- Preparación del Conjunto de Datos para Modelado:\n",
    "\n",
    "Dividir los datos en conjuntos de entrenamiento, validación y prueba.\n",
    "Garantizar un balance adecuado en la variable objetivo si está desbalanceada.\n",
    "\n",
    "5.- Entrenamiento y Validación de Modelos:\n",
    "\n",
    "Probar modelos básicos (logística, árboles de decisión).\n",
    "Ajustar hiperparámetros y optimizar para maximizar el AUC-ROC."
   ]
  }
 ],
 "metadata": {
  "kernelspec": {
   "display_name": "Python 3",
   "language": "python",
   "name": "python3"
  },
  "language_info": {
   "codemirror_mode": {
    "name": "ipython",
    "version": 3
   },
   "file_extension": ".py",
   "mimetype": "text/x-python",
   "name": "python",
   "nbconvert_exporter": "python",
   "pygments_lexer": "ipython3",
   "version": "3.8.10"
  }
 },
 "nbformat": 4,
 "nbformat_minor": 2
}
